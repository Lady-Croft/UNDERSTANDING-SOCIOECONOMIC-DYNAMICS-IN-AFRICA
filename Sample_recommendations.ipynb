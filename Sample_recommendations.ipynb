{
 "cells": [
  {
   "cell_type": "markdown",
   "id": "7dcf8a94-12fe-45af-a729-97231c8f1257",
   "metadata": {},
   "source": [
    "## Table of Content\n",
    "#### 1. Merge datasets\n",
    "#### 2. Statistics\n",
    "#### 3. Correlation Analysis\n",
    "#### 4. Recommendations"
   ]
  },
  {
   "cell_type": "code",
   "execution_count": 1,
   "id": "a0cdcd39",
   "metadata": {},
   "outputs": [],
   "source": [
    "import pandas as pd\n",
    "import numpy as np"
   ]
  },
  {
   "cell_type": "code",
   "execution_count": 2,
   "id": "aa17bab6",
   "metadata": {},
   "outputs": [],
   "source": [
    "co2_data = pd.read_excel(\"C:\\\\Users\\\\Omotayo Muka\\\\funmike\\\\Data Analysis\\\\co2_production.xlsx\", sheet_name=0)\n",
    "gni_data = pd.read_excel(\"C:\\\\Users\\\\Omotayo Muka\\\\funmike\\\\Data Analysis\\\\gross_national_income_per_capital.xlsx\", sheet_name=0)\n",
    "hdi_data = pd.read_excel(\"C:\\\\Users\\\\Omotayo Muka\\\\funmike\\\\Data Analysis\\\\human_development_index.xlsx\", sheet_name=0)\n",
    "life_expectancy_data = pd.read_excel(\"C:\\\\Users\\\\Omotayo Muka\\\\funmike\\\\Data Analysis\\\\life_expectancy_by_birth.xlsx\", sheet_name=0)\n"
   ]
  },
  {
   "cell_type": "markdown",
   "id": "a0a69ccc",
   "metadata": {},
   "source": [
    "## Merge Datasets"
   ]
  },
  {
   "cell_type": "code",
   "execution_count": 3,
   "id": "d2cfe550",
   "metadata": {},
   "outputs": [],
   "source": [
    "\n",
    "# Merge datasets with suffixes to handle duplicate column names\n",
    "merged_data = pd.merge(co2_data, gni_data, on=\"Country\", how=\"inner\", suffixes=(\"_co2\", \"_gni\"))\n",
    "merged_data = pd.merge(merged_data, hdi_data, on=\"Country\", how=\"inner\", suffixes=(\"_merged\", \"_hdi\"))\n",
    "merged_data = pd.merge(merged_data, life_expectancy_data, on=\"Country\", how=\"inner\", suffixes=(\"_merged\", \"_le\"))\n"
   ]
  },
  {
   "cell_type": "code",
   "execution_count": 4,
   "id": "526fc26b",
   "metadata": {},
   "outputs": [],
   "source": [
    "# List of African countries\n",
    "african_countries = [\"Algeria\", \"Angola\", \"Benin\", \"Botswana\", \"Burkina Faso\", \"Burundi\", \"Cabo Verde\", \"Cameroon\", \"Central African Republic\", \"Chad\", \"Comoros\", \"Congo (Congo-Brazzaville)\", \"Côte d'Ivoire (Ivory Coast)\", \"Djibouti\", \"Egypt\", \"Equatorial Guinea\", \"Eritrea\", \"Eswatini\", \"Ethiopia\", \"Gabon\", \"Gambia\", \"Ghana\", \"Guinea\", \"Guinea-Bissau\", \"Kenya\", \"Lesotho\", \"Liberia\", \"Libya\", \"Madagascar\", \"Malawi\", \"Mali\", \"Mauritania\", \"Mauritius\", \"Morocco\", \"Mozambique\", \"Namibia\", \"Niger\", \"Nigeria\", \"Rwanda\", \"Sao Tome and Principe\", \"Senegal\", \"Seychelles\", \"Sierra Leone\", \"Somalia\", \"South Africa\", \"South Sudan\", \"Sudan\", \"Tanzania\", \"Togo\", \"Tunisia\", \"Uganda\", \"Zambia\", \"Zimbabwe\"]\n",
    "\n",
    "# Filter the DataFrame to include only African countries\n",
    "df_africa_data = merged_data[merged_data['Country'].isin(african_countries)]"
   ]
  },
  {
   "cell_type": "code",
   "execution_count": 5,
   "id": "ad879076",
   "metadata": {},
   "outputs": [
    {
     "data": {
      "text/html": [
       "<div>\n",
       "<style scoped>\n",
       "    .dataframe tbody tr th:only-of-type {\n",
       "        vertical-align: middle;\n",
       "    }\n",
       "\n",
       "    .dataframe tbody tr th {\n",
       "        vertical-align: top;\n",
       "    }\n",
       "\n",
       "    .dataframe thead th {\n",
       "        text-align: right;\n",
       "    }\n",
       "</style>\n",
       "<table border=\"1\" class=\"dataframe\">\n",
       "  <thead>\n",
       "    <tr style=\"text-align: right;\">\n",
       "      <th></th>\n",
       "      <th>ISO3_co2</th>\n",
       "      <th>Country</th>\n",
       "      <th>hdicode_co2</th>\n",
       "      <th>region_co2</th>\n",
       "      <th>hdi_rank_2021_co2</th>\n",
       "      <th>co2_prod_1990</th>\n",
       "      <th>co2_prod_1991</th>\n",
       "      <th>co2_prod_1992</th>\n",
       "      <th>co2_prod_1993</th>\n",
       "      <th>co2_prod_1994</th>\n",
       "      <th>...</th>\n",
       "      <th>2012</th>\n",
       "      <th>2013</th>\n",
       "      <th>2014</th>\n",
       "      <th>2015</th>\n",
       "      <th>2016</th>\n",
       "      <th>2017</th>\n",
       "      <th>2018</th>\n",
       "      <th>2019</th>\n",
       "      <th>2020</th>\n",
       "      <th>2021</th>\n",
       "    </tr>\n",
       "  </thead>\n",
       "  <tbody>\n",
       "    <tr>\n",
       "      <th>1</th>\n",
       "      <td>AGO</td>\n",
       "      <td>Angola</td>\n",
       "      <td>Medium</td>\n",
       "      <td>SSA</td>\n",
       "      <td>148.0</td>\n",
       "      <td>0.429586</td>\n",
       "      <td>0.413433</td>\n",
       "      <td>0.408015</td>\n",
       "      <td>0.439647</td>\n",
       "      <td>0.286180</td>\n",
       "      <td>...</td>\n",
       "      <td>58.6231</td>\n",
       "      <td>59.3074</td>\n",
       "      <td>60.0397</td>\n",
       "      <td>60.6546</td>\n",
       "      <td>61.0923</td>\n",
       "      <td>61.6798</td>\n",
       "      <td>62.1438</td>\n",
       "      <td>62.4484</td>\n",
       "      <td>62.2612</td>\n",
       "      <td>61.6434</td>\n",
       "    </tr>\n",
       "    <tr>\n",
       "      <th>11</th>\n",
       "      <td>BDI</td>\n",
       "      <td>Burundi</td>\n",
       "      <td>Low</td>\n",
       "      <td>SSA</td>\n",
       "      <td>187.0</td>\n",
       "      <td>0.038399</td>\n",
       "      <td>0.042797</td>\n",
       "      <td>0.038023</td>\n",
       "      <td>0.039180</td>\n",
       "      <td>0.039753</td>\n",
       "      <td>...</td>\n",
       "      <td>58.4927</td>\n",
       "      <td>59.2346</td>\n",
       "      <td>59.8684</td>\n",
       "      <td>60.2172</td>\n",
       "      <td>60.7931</td>\n",
       "      <td>61.5526</td>\n",
       "      <td>61.6884</td>\n",
       "      <td>62.3514</td>\n",
       "      <td>61.5663</td>\n",
       "      <td>61.6627</td>\n",
       "    </tr>\n",
       "    <tr>\n",
       "      <th>13</th>\n",
       "      <td>BEN</td>\n",
       "      <td>Benin</td>\n",
       "      <td>Low</td>\n",
       "      <td>SSA</td>\n",
       "      <td>166.0</td>\n",
       "      <td>0.126673</td>\n",
       "      <td>0.142389</td>\n",
       "      <td>0.147828</td>\n",
       "      <td>0.173432</td>\n",
       "      <td>0.192222</td>\n",
       "      <td>...</td>\n",
       "      <td>58.7159</td>\n",
       "      <td>58.9654</td>\n",
       "      <td>59.1249</td>\n",
       "      <td>59.3771</td>\n",
       "      <td>59.5394</td>\n",
       "      <td>59.8558</td>\n",
       "      <td>60.1403</td>\n",
       "      <td>60.4537</td>\n",
       "      <td>60.0880</td>\n",
       "      <td>59.8210</td>\n",
       "    </tr>\n",
       "    <tr>\n",
       "      <th>14</th>\n",
       "      <td>BFA</td>\n",
       "      <td>Burkina Faso</td>\n",
       "      <td>Low</td>\n",
       "      <td>SSA</td>\n",
       "      <td>184.0</td>\n",
       "      <td>0.066119</td>\n",
       "      <td>0.069230</td>\n",
       "      <td>0.067786</td>\n",
       "      <td>0.065589</td>\n",
       "      <td>0.065691</td>\n",
       "      <td>...</td>\n",
       "      <td>57.6187</td>\n",
       "      <td>57.8234</td>\n",
       "      <td>58.3589</td>\n",
       "      <td>58.8454</td>\n",
       "      <td>59.3262</td>\n",
       "      <td>59.5361</td>\n",
       "      <td>60.0466</td>\n",
       "      <td>60.0391</td>\n",
       "      <td>59.7306</td>\n",
       "      <td>59.2696</td>\n",
       "    </tr>\n",
       "    <tr>\n",
       "      <th>27</th>\n",
       "      <td>BWA</td>\n",
       "      <td>Botswana</td>\n",
       "      <td>Medium</td>\n",
       "      <td>SSA</td>\n",
       "      <td>117.0</td>\n",
       "      <td>2.098611</td>\n",
       "      <td>1.986245</td>\n",
       "      <td>2.036810</td>\n",
       "      <td>2.283595</td>\n",
       "      <td>2.112954</td>\n",
       "      <td>...</td>\n",
       "      <td>60.8004</td>\n",
       "      <td>61.9958</td>\n",
       "      <td>62.6076</td>\n",
       "      <td>63.8183</td>\n",
       "      <td>65.4644</td>\n",
       "      <td>66.7526</td>\n",
       "      <td>65.4224</td>\n",
       "      <td>65.4636</td>\n",
       "      <td>65.6471</td>\n",
       "      <td>61.1409</td>\n",
       "    </tr>\n",
       "    <tr>\n",
       "      <th>28</th>\n",
       "      <td>CAF</td>\n",
       "      <td>Central African Republic</td>\n",
       "      <td>Low</td>\n",
       "      <td>SSA</td>\n",
       "      <td>188.0</td>\n",
       "      <td>0.065272</td>\n",
       "      <td>0.066191</td>\n",
       "      <td>0.065622</td>\n",
       "      <td>0.064954</td>\n",
       "      <td>0.066619</td>\n",
       "      <td>...</td>\n",
       "      <td>50.6861</td>\n",
       "      <td>50.9020</td>\n",
       "      <td>50.5655</td>\n",
       "      <td>52.7930</td>\n",
       "      <td>53.4601</td>\n",
       "      <td>53.7207</td>\n",
       "      <td>54.3693</td>\n",
       "      <td>55.0253</td>\n",
       "      <td>54.6042</td>\n",
       "      <td>53.8947</td>\n",
       "    </tr>\n",
       "    <tr>\n",
       "      <th>34</th>\n",
       "      <td>CMR</td>\n",
       "      <td>Cameroon</td>\n",
       "      <td>Medium</td>\n",
       "      <td>SSA</td>\n",
       "      <td>151.0</td>\n",
       "      <td>0.221119</td>\n",
       "      <td>0.219840</td>\n",
       "      <td>0.216993</td>\n",
       "      <td>0.222775</td>\n",
       "      <td>0.214731</td>\n",
       "      <td>...</td>\n",
       "      <td>57.7922</td>\n",
       "      <td>58.4761</td>\n",
       "      <td>58.9355</td>\n",
       "      <td>59.6580</td>\n",
       "      <td>60.2333</td>\n",
       "      <td>60.8103</td>\n",
       "      <td>61.1798</td>\n",
       "      <td>61.5839</td>\n",
       "      <td>60.8328</td>\n",
       "      <td>60.3334</td>\n",
       "    </tr>\n",
       "    <tr>\n",
       "      <th>38</th>\n",
       "      <td>COM</td>\n",
       "      <td>Comoros</td>\n",
       "      <td>Medium</td>\n",
       "      <td>SSA</td>\n",
       "      <td>156.0</td>\n",
       "      <td>0.160236</td>\n",
       "      <td>0.155594</td>\n",
       "      <td>0.159506</td>\n",
       "      <td>0.163108</td>\n",
       "      <td>0.158520</td>\n",
       "      <td>...</td>\n",
       "      <td>61.8340</td>\n",
       "      <td>62.2244</td>\n",
       "      <td>62.5158</td>\n",
       "      <td>62.8956</td>\n",
       "      <td>63.2368</td>\n",
       "      <td>63.6254</td>\n",
       "      <td>63.9117</td>\n",
       "      <td>64.0684</td>\n",
       "      <td>64.1665</td>\n",
       "      <td>63.4174</td>\n",
       "    </tr>\n",
       "    <tr>\n",
       "      <th>39</th>\n",
       "      <td>CPV</td>\n",
       "      <td>Cabo Verde</td>\n",
       "      <td>Medium</td>\n",
       "      <td>SSA</td>\n",
       "      <td>128.0</td>\n",
       "      <td>0.281888</td>\n",
       "      <td>0.285729</td>\n",
       "      <td>0.298687</td>\n",
       "      <td>0.300284</td>\n",
       "      <td>0.301748</td>\n",
       "      <td>...</td>\n",
       "      <td>74.4838</td>\n",
       "      <td>75.0590</td>\n",
       "      <td>75.2400</td>\n",
       "      <td>74.6195</td>\n",
       "      <td>75.7423</td>\n",
       "      <td>76.5928</td>\n",
       "      <td>75.7331</td>\n",
       "      <td>76.0042</td>\n",
       "      <td>74.8077</td>\n",
       "      <td>74.0518</td>\n",
       "    </tr>\n",
       "    <tr>\n",
       "      <th>45</th>\n",
       "      <td>DJI</td>\n",
       "      <td>Djibouti</td>\n",
       "      <td>Low</td>\n",
       "      <td>AS</td>\n",
       "      <td>171.0</td>\n",
       "      <td>0.465449</td>\n",
       "      <td>0.470945</td>\n",
       "      <td>0.488494</td>\n",
       "      <td>0.485776</td>\n",
       "      <td>0.470977</td>\n",
       "      <td>...</td>\n",
       "      <td>60.8479</td>\n",
       "      <td>61.2212</td>\n",
       "      <td>61.6411</td>\n",
       "      <td>61.9570</td>\n",
       "      <td>62.1908</td>\n",
       "      <td>62.7966</td>\n",
       "      <td>63.0381</td>\n",
       "      <td>63.0854</td>\n",
       "      <td>62.6943</td>\n",
       "      <td>62.3049</td>\n",
       "    </tr>\n",
       "  </tbody>\n",
       "</table>\n",
       "<p>10 rows × 145 columns</p>\n",
       "</div>"
      ],
      "text/plain": [
       "   ISO3_co2                   Country hdicode_co2 region_co2  \\\n",
       "1       AGO                    Angola      Medium        SSA   \n",
       "11      BDI                   Burundi         Low        SSA   \n",
       "13      BEN                     Benin         Low        SSA   \n",
       "14      BFA              Burkina Faso         Low        SSA   \n",
       "27      BWA                  Botswana      Medium        SSA   \n",
       "28      CAF  Central African Republic         Low        SSA   \n",
       "34      CMR                  Cameroon      Medium        SSA   \n",
       "38      COM                   Comoros      Medium        SSA   \n",
       "39      CPV                Cabo Verde      Medium        SSA   \n",
       "45      DJI                  Djibouti         Low         AS   \n",
       "\n",
       "    hdi_rank_2021_co2  co2_prod_1990  co2_prod_1991  co2_prod_1992  \\\n",
       "1               148.0       0.429586       0.413433       0.408015   \n",
       "11              187.0       0.038399       0.042797       0.038023   \n",
       "13              166.0       0.126673       0.142389       0.147828   \n",
       "14              184.0       0.066119       0.069230       0.067786   \n",
       "27              117.0       2.098611       1.986245       2.036810   \n",
       "28              188.0       0.065272       0.066191       0.065622   \n",
       "34              151.0       0.221119       0.219840       0.216993   \n",
       "38              156.0       0.160236       0.155594       0.159506   \n",
       "39              128.0       0.281888       0.285729       0.298687   \n",
       "45              171.0       0.465449       0.470945       0.488494   \n",
       "\n",
       "    co2_prod_1993  co2_prod_1994  ...     2012     2013     2014     2015  \\\n",
       "1        0.439647       0.286180  ...  58.6231  59.3074  60.0397  60.6546   \n",
       "11       0.039180       0.039753  ...  58.4927  59.2346  59.8684  60.2172   \n",
       "13       0.173432       0.192222  ...  58.7159  58.9654  59.1249  59.3771   \n",
       "14       0.065589       0.065691  ...  57.6187  57.8234  58.3589  58.8454   \n",
       "27       2.283595       2.112954  ...  60.8004  61.9958  62.6076  63.8183   \n",
       "28       0.064954       0.066619  ...  50.6861  50.9020  50.5655  52.7930   \n",
       "34       0.222775       0.214731  ...  57.7922  58.4761  58.9355  59.6580   \n",
       "38       0.163108       0.158520  ...  61.8340  62.2244  62.5158  62.8956   \n",
       "39       0.300284       0.301748  ...  74.4838  75.0590  75.2400  74.6195   \n",
       "45       0.485776       0.470977  ...  60.8479  61.2212  61.6411  61.9570   \n",
       "\n",
       "       2016     2017     2018     2019     2020     2021  \n",
       "1   61.0923  61.6798  62.1438  62.4484  62.2612  61.6434  \n",
       "11  60.7931  61.5526  61.6884  62.3514  61.5663  61.6627  \n",
       "13  59.5394  59.8558  60.1403  60.4537  60.0880  59.8210  \n",
       "14  59.3262  59.5361  60.0466  60.0391  59.7306  59.2696  \n",
       "27  65.4644  66.7526  65.4224  65.4636  65.6471  61.1409  \n",
       "28  53.4601  53.7207  54.3693  55.0253  54.6042  53.8947  \n",
       "34  60.2333  60.8103  61.1798  61.5839  60.8328  60.3334  \n",
       "38  63.2368  63.6254  63.9117  64.0684  64.1665  63.4174  \n",
       "39  75.7423  76.5928  75.7331  76.0042  74.8077  74.0518  \n",
       "45  62.1908  62.7966  63.0381  63.0854  62.6943  62.3049  \n",
       "\n",
       "[10 rows x 145 columns]"
      ]
     },
     "execution_count": 5,
     "metadata": {},
     "output_type": "execute_result"
    }
   ],
   "source": [
    "df_africa_data.head(10)"
   ]
  },
  {
   "cell_type": "markdown",
   "id": "78fc0dc8",
   "metadata": {},
   "source": [
    "## Exploring of the complex interplay between economic, social, and environmental factors in shaping Africa's developmental trajectory."
   ]
  },
  {
   "cell_type": "code",
   "execution_count": 6,
   "id": "669a85b2",
   "metadata": {},
   "outputs": [
    {
     "name": "stdout",
     "output_type": "stream",
     "text": [
      "       hdi_rank_2021_co2  co2_prod_1990  co2_prod_1991  co2_prod_1992  \\\n",
      "count          48.000000      47.000000      48.000000      48.000000   \n",
      "mean          152.520833       0.911538       0.940706       0.901784   \n",
      "std            32.929964       1.823709       1.921892       1.734570   \n",
      "min            63.000000       0.038399       0.042797       0.038023   \n",
      "25%           136.750000       0.079573       0.083905       0.078602   \n",
      "50%           164.000000       0.236698       0.216818       0.215153   \n",
      "75%           176.250000       0.664978       0.755244       0.791357   \n",
      "max           191.000000       8.504575       9.378858       7.960721   \n",
      "\n",
      "       co2_prod_1993  co2_prod_1994  co2_prod_1995  co2_prod_1996  \\\n",
      "count      48.000000      49.000000      49.000000      49.000000   \n",
      "mean        0.928443       0.920005       0.948146       0.949357   \n",
      "std         1.778862       1.835356       1.893553       1.854749   \n",
      "min         0.039180       0.035778       0.039779       0.039904   \n",
      "25%         0.082039       0.085373       0.078634       0.077171   \n",
      "50%         0.230278       0.238285       0.235566       0.257243   \n",
      "75%         0.893936       0.899575       0.899295       0.897848   \n",
      "max         8.140319       9.012075       9.232525       8.838937   \n",
      "\n",
      "       co2_prod_1997  co2_prod_1998  ...       2012       2013       2014  \\\n",
      "count      49.000000      49.000000  ...  49.000000  49.000000  49.000000   \n",
      "mean        0.960445       0.981194  ...  61.310078  61.804251  62.183567   \n",
      "std         1.890928       1.885041  ...   6.621761   6.504605   6.436190   \n",
      "min         0.040697       0.040279  ...  47.835400  49.002400  50.032700   \n",
      "25%         0.083108       0.087463  ...  57.640000  58.232400  58.846000   \n",
      "50%         0.245280       0.265664  ...  59.912800  60.239000  60.899100   \n",
      "75%         0.899218       0.902471  ...  64.009400  64.425700  64.940100   \n",
      "max         8.966789       8.814612  ...  75.549800  75.650200  75.649700   \n",
      "\n",
      "            2015       2016       2017       2018       2019       2020  \\\n",
      "count  49.000000  49.000000  49.000000  49.000000  49.000000  49.000000   \n",
      "mean   62.634676  63.142918  63.550735  63.837702  64.173229  63.688020   \n",
      "std     6.228955   6.137910   6.125817   5.957347   5.880684   5.757766   \n",
      "min    51.101400  52.042700  52.305200  52.553600  52.910400  52.777400   \n",
      "25%    59.148500  59.550100  60.066500  60.501600  60.901100  60.708300   \n",
      "50%    61.378100  62.163200  62.480800  62.713900  63.075000  62.694300   \n",
      "75%    65.297700  65.737300  66.188900  66.250500  66.437000  66.530500   \n",
      "max    75.691900  75.786100  76.592800  76.065600  76.474200  75.292300   \n",
      "\n",
      "            2021  \n",
      "count  49.000000  \n",
      "mean   62.976435  \n",
      "std     5.790648  \n",
      "min    52.525400  \n",
      "25%    59.652300  \n",
      "50%    61.662700  \n",
      "75%    65.821000  \n",
      "max    76.376700  \n",
      "\n",
      "[8 rows x 132 columns]\n"
     ]
    }
   ],
   "source": [
    "# Summary statistics\n",
    "print(df_africa_data.describe())\n",
    "\n",
    "# Visualizations\n",
    "import matplotlib.pyplot as plt\n",
    "import seaborn as sns\n",
    "\n"
   ]
  },
  {
   "cell_type": "markdown",
   "id": "c79c324c",
   "metadata": {},
   "source": [
    "## Correlation Analysis"
   ]
  },
  {
   "cell_type": "code",
   "execution_count": 7,
   "id": "647b786e",
   "metadata": {},
   "outputs": [
    {
     "name": "stdout",
     "output_type": "stream",
     "text": [
      "                   hdi_rank_2021_co2  co2_prod_1990  co2_prod_1991  \\\n",
      "hdi_rank_2021_co2           1.000000      -0.590386      -0.584395   \n",
      "co2_prod_1990              -0.590386       1.000000       0.997537   \n",
      "co2_prod_1991              -0.584395       0.997537       1.000000   \n",
      "co2_prod_1992              -0.615853       0.998235       0.996348   \n",
      "co2_prod_1993              -0.622643       0.998310       0.996434   \n",
      "...                              ...            ...            ...   \n",
      "2017                       -0.769197       0.388219       0.394495   \n",
      "2018                       -0.764432       0.391003       0.398210   \n",
      "2019                       -0.759805       0.383163       0.389784   \n",
      "2020                       -0.766314       0.391597       0.398862   \n",
      "2021                       -0.713423       0.340605       0.350236   \n",
      "\n",
      "                   co2_prod_1992  co2_prod_1993  co2_prod_1994  co2_prod_1995  \\\n",
      "hdi_rank_2021_co2      -0.615853      -0.622643      -0.604151      -0.605654   \n",
      "co2_prod_1990           0.998235       0.998310       0.995986       0.996091   \n",
      "co2_prod_1991           0.996348       0.996434       0.998580       0.998057   \n",
      "co2_prod_1992           1.000000       0.999460       0.994946       0.994296   \n",
      "co2_prod_1993           0.999460       1.000000       0.995971       0.995487   \n",
      "...                          ...            ...            ...            ...   \n",
      "2017                    0.409847       0.415421       0.405652       0.406184   \n",
      "2018                    0.412771       0.417722       0.408591       0.409335   \n",
      "2019                    0.404564       0.409569       0.400302       0.401422   \n",
      "2020                    0.413842       0.419099       0.408410       0.408924   \n",
      "2021                    0.362646       0.364892       0.356024       0.359045   \n",
      "\n",
      "                   co2_prod_1996  co2_prod_1997  co2_prod_1998  ...      2012  \\\n",
      "hdi_rank_2021_co2      -0.623405      -0.626100      -0.653026  ... -0.748880   \n",
      "co2_prod_1990           0.994904       0.991204       0.989684  ...  0.372390   \n",
      "co2_prod_1991           0.996450       0.993215       0.991242  ...  0.383223   \n",
      "co2_prod_1992           0.994390       0.990392       0.990749  ...  0.395672   \n",
      "co2_prod_1993           0.995429       0.992166       0.992649  ...  0.399673   \n",
      "...                          ...            ...            ...  ...       ...   \n",
      "2017                    0.418772       0.414893       0.440235  ...  0.980088   \n",
      "2018                    0.422560       0.418421       0.443225  ...  0.980314   \n",
      "2019                    0.415063       0.410993       0.435751  ...  0.977942   \n",
      "2020                    0.421893       0.417907       0.442013  ...  0.973547   \n",
      "2021                    0.371715       0.364290       0.389662  ...  0.976783   \n",
      "\n",
      "                       2013      2014      2015      2016      2017      2018  \\\n",
      "hdi_rank_2021_co2 -0.758291 -0.763105 -0.770427 -0.769094 -0.769197 -0.764432   \n",
      "co2_prod_1990      0.375683  0.370136  0.380011  0.379990  0.388219  0.391003   \n",
      "co2_prod_1991      0.385829  0.378464  0.387681  0.386508  0.394495  0.398210   \n",
      "co2_prod_1992      0.399005  0.393159  0.403125  0.402275  0.409847  0.412771   \n",
      "co2_prod_1993      0.403144  0.397462  0.407651  0.407475  0.415421  0.417722   \n",
      "...                     ...       ...       ...       ...       ...       ...   \n",
      "2017               0.988296  0.993487  0.996160  0.998942  1.000000  0.998542   \n",
      "2018               0.988469  0.993647  0.996777  0.998523  0.998542  1.000000   \n",
      "2019               0.986415  0.992296  0.995560  0.997732  0.997785  0.999277   \n",
      "2020               0.982556  0.988466  0.992302  0.995149  0.996110  0.997345   \n",
      "2021               0.981895  0.984339  0.985558  0.983820  0.981608  0.986359   \n",
      "\n",
      "                       2019      2020      2021  \n",
      "hdi_rank_2021_co2 -0.759805 -0.766314 -0.713423  \n",
      "co2_prod_1990      0.383163  0.391597  0.340605  \n",
      "co2_prod_1991      0.389784  0.398862  0.350236  \n",
      "co2_prod_1992      0.404564  0.413842  0.362646  \n",
      "co2_prod_1993      0.409569  0.419099  0.364892  \n",
      "...                     ...       ...       ...  \n",
      "2017               0.997785  0.996110  0.981608  \n",
      "2018               0.999277  0.997345  0.986359  \n",
      "2019               1.000000  0.996876  0.986785  \n",
      "2020               0.996876  1.000000  0.984336  \n",
      "2021               0.986785  0.984336  1.000000  \n",
      "\n",
      "[132 rows x 132 columns]\n"
     ]
    }
   ],
   "source": [
    "correlation_matrix = df_africa_data.corr(numeric_only=True)\n",
    "print(correlation_matrix)"
   ]
  },
  {
   "cell_type": "code",
   "execution_count": 8,
   "id": "69f7bf8d-c808-4504-8906-322a462499c6",
   "metadata": {},
   "outputs": [
    {
     "data": {
      "text/plain": [
       "Index([         'ISO3_co2',           'Country',       'hdicode_co2',\n",
       "              'region_co2', 'hdi_rank_2021_co2',     'co2_prod_1990',\n",
       "           'co2_prod_1991',     'co2_prod_1992',     'co2_prod_1993',\n",
       "           'co2_prod_1994',\n",
       "       ...\n",
       "                      2012,                2013,                2014,\n",
       "                      2015,                2016,                2017,\n",
       "                      2018,                2019,                2020,\n",
       "                      2021],\n",
       "      dtype='object', length=145)"
      ]
     },
     "execution_count": 8,
     "metadata": {},
     "output_type": "execute_result"
    }
   ],
   "source": [
    "df_africa_data.columns"
   ]
  },
  {
   "cell_type": "code",
   "execution_count": 9,
   "id": "a34d5619-857d-4dc3-9587-f7b0203c715b",
   "metadata": {},
   "outputs": [],
   "source": [
    "import pandas as pd\n",
    "#import janitor\n",
    "\n",
    "# Clean the column names\n",
    "#df_africa_data = df_africa_data.clean_names()"
   ]
  },
  {
   "cell_type": "code",
   "execution_count": 10,
   "id": "f59fd579",
   "metadata": {},
   "outputs": [],
   "source": [
    "# Narrow down dataset to 2021\n",
    "selected_columns = ['Country', 'hdicode_co2', 'co2_prod_2021', 'gnipc_2021', 'hdi_2021', 2021]\n",
    "\n",
    "# Create a new DataFrame with only the selected columns\n",
    "selected_df = df_africa_data[selected_columns]\n",
    "\n",
    "# Now, 'selected_df' contains only the columns you specified\n",
    "# You can use 'selected_df' for further analysis or visualization\n"
   ]
  },
  {
   "cell_type": "code",
   "execution_count": 11,
   "id": "89ae79da",
   "metadata": {},
   "outputs": [
    {
     "name": "stdout",
     "output_type": "stream",
     "text": [
      "       co2_prod_2021    gnipc_2021   hdi_2021       2021\n",
      "count      49.000000     49.000000  48.000000  49.000000\n",
      "mean        1.187450   5484.797875   0.560000  62.976435\n",
      "std         1.921907   5628.968090   0.109032   5.790648\n",
      "min         0.035370    731.786709   0.385000  52.525400\n",
      "25%         0.145716   1908.241590   0.489750  59.652300\n",
      "50%         0.355729   3344.311825   0.534500  61.662700\n",
      "75%         1.019209   6230.200199   0.621500  65.821000\n",
      "max         7.620420  25830.617750   0.802000  76.376700\n"
     ]
    }
   ],
   "source": [
    "# Summary statistics\n",
    "print(selected_df.describe())\n",
    "\n",
    "# Visualizations\n",
    "import matplotlib.pyplot as plt\n",
    "import seaborn as sns"
   ]
  },
  {
   "cell_type": "code",
   "execution_count": 12,
   "id": "c1aee62f",
   "metadata": {},
   "outputs": [
    {
     "name": "stdout",
     "output_type": "stream",
     "text": [
      "               co2_prod_2021  gnipc_2021  hdi_2021      2021\n",
      "co2_prod_2021       1.000000    0.782626  0.672749  0.392235\n",
      "gnipc_2021          0.782626    1.000000  0.866925  0.552211\n",
      "hdi_2021            0.672749    0.866925  1.000000  0.722035\n",
      "2021                0.392235    0.552211  0.722035  1.000000\n"
     ]
    }
   ],
   "source": [
    "correlation_matrix = selected_df.corr(numeric_only=True)\n",
    "print(correlation_matrix)"
   ]
  },
  {
   "cell_type": "code",
   "execution_count": 13,
   "id": "76235c97",
   "metadata": {},
   "outputs": [
    {
     "data": {
      "image/png": "[encoded data removed]",
      "text/plain": [
       "<Figure size 1000x800 with 2 Axes>"
      ]
     },
     "metadata": {},
     "output_type": "display_data"
    }
   ],
   "source": [
    "# Calculate correlation matrix\n",
    "correlation_matrix = selected_df.corr(numeric_only=True)\n",
    "# Visualize correlation matrix using a heatmap\n",
    "plt.figure(figsize=(10, 8))\n",
    "sns.heatmap(correlation_matrix, annot=True, cmap=\"coolwarm\", linewidths=0.5)\n",
    "plt.title(\"Correlation Matrix\")\n",
    "plt.show()"
   ]
  },
  {
   "cell_type": "code",
   "execution_count": 14,
   "id": "4d739c77",
   "metadata": {},
   "outputs": [
    {
     "name": "stdout",
     "output_type": "stream",
     "text": [
      "T-statistic: 4.050722533019269, p-value: 0.00019436021664150557\n",
      "Statistically significant difference\n"
     ]
    }
   ],
   "source": [
    "from scipy import stats\n",
    "\n",
    "# T-test to compare CO2 emissions between high and low HDI countries\n",
    "high_hdi = df_africa_data[df_africa_data[\"hdi_2021\"] > df_africa_data[\"hdi_2021\"].median()]\n",
    "low_hdi = df_africa_data[df_africa_data[\"hdi_2021\"] <= df_africa_data[\"hdi_2021\"].median()]\n",
    "\n",
    "t_stat, p_value = stats.ttest_ind(high_hdi[\"co2_prod_2021\"], low_hdi[\"co2_prod_2021\"])\n",
    "print(f\"T-statistic: {t_stat}, p-value: {p_value}\")\n",
    "if p_value < 0.05:\n",
    "    print(\"Statistically significant difference\")\n",
    "else:\n",
    "    print(\"No statistically significant difference\")\n"
   ]
  },
  {
   "cell_type": "code",
   "execution_count": 16,
   "id": "7bf02ebf-8975-4149-bd5a-133a30110dd0",
   "metadata": {},
   "outputs": [
    {
     "name": "stdout",
     "output_type": "stream",
     "text": [
      "T-statistic: 3.0850504557114977, p-value: 0.003438924139297617\n",
      "Statistically significant difference\n"
     ]
    }
   ],
   "source": [
    "t_stat, p_value = stats.ttest_ind(high_hdi[2021], low_hdi[2021])\n",
    "print(f\"T-statistic: {t_stat}, p-value: {p_value}\")\n",
    "if p_value < 0.05:\n",
    "    print(\"Statistically significant difference\")\n",
    "else:\n",
    "    print(\"No statistically significant difference\")"
   ]
  },
  {
   "cell_type": "code",
   "execution_count": 17,
   "id": "50df33ae-c3cf-4de1-9322-b8229e7c500f",
   "metadata": {},
   "outputs": [
    {
     "name": "stdout",
     "output_type": "stream",
     "text": [
      "T-statistic: 5.486584717459716, p-value: 1.6901852184447398e-06\n",
      "Statistically significant difference\n"
     ]
    }
   ],
   "source": [
    "t_stat, p_value = stats.ttest_ind(high_hdi[\"gnipc_2021\"], low_hdi[\"gnipc_2021\"])\n",
    "print(f\"T-statistic: {t_stat}, p-value: {p_value}\")\n",
    "if p_value < 0.05:\n",
    "    print(\"Statistically significant difference\")\n",
    "else:\n",
    "    print(\"No statistically significant difference\")"
   ]
  },
  {
   "cell_type": "markdown",
   "id": "703e9149-f05d-4167-ab56-de0c672a9619",
   "metadata": {},
   "source": [
    "## Analyze the correlation between Human Development Index (HDI) and life expectancy in African countries."
   ]
  },
  {
   "cell_type": "code",
   "execution_count": 19,
   "id": "d1f73a36",
   "metadata": {},
   "outputs": [
    {
     "data": {
      "image/png": "[encoded data removed]",
      "text/plain": [
       "<Figure size 800x600 with 1 Axes>"
      ]
     },
     "metadata": {},
     "output_type": "display_data"
    }
   ],
   "source": [
    "# Scatter plot of HDI vs. Life Expectancy\n",
    "plt.figure(figsize=(8, 6))\n",
    "sns.scatterplot(data= df_africa_data, x=\"hdi_2021\", y=2021)\n",
    "plt.xlabel(\"HDI (2021)\")\n",
    "plt.ylabel(\"Life Expectancy (2021)\")\n",
    "plt.title(\"Scatter Plot: HDI vs. Life Expectancy\")\n",
    "plt.show()\n"
   ]
  },
  {
   "cell_type": "markdown",
   "id": "bca1254d-0a3a-4a61-bf1c-0a908b668d80",
   "metadata": {},
   "source": [
    "# Recommendations\n",
    "#### 1. Political instability is one of the biggest problem of Africa, it is essential that an early warning system is put in place to address potential sources of instability before they escalate. \n",
    "#### 2. Shift from fossil fuel-based energy sources to renewable energy, such as solar, wind, and hydropower to reduce CO2 production \n",
    "#### 3. Promote sustainable and eco-friendly agricultural practices, including organic farming, agroforestry, and precision agriculture. \n",
    "#### 4. Encourage investments in sustainable projects through green finance initiatives. \n",
    "#### 5. Implementing measures that improve response capabilities thereby reducing the impact of future pandemics on public health and socio-economic well-being."
   ]
  },
  {
   "cell_type": "code",
   "execution_count": null,
   "id": "09c23794-6de7-4b57-b3a9-57bba5a798a6",
   "metadata": {},
   "outputs": [],
   "source": []
  }
 ],
 "metadata": {
  "kernelspec": {
   "display_name": "Python 3 (ipykernel)",
   "language": "python",
   "name": "python3"
  },
  "language_info": {
   "codemirror_mode": {
    "name": "ipython",
    "version": 3
   },
   "file_extension": ".py",
   "mimetype": "text/x-python",
   "name": "python",
   "nbconvert_exporter": "python",
   "pygments_lexer": "ipython3",
   "version": "3.11.8"
  }
 },
 "nbformat": 4,
 "nbformat_minor": 5
}
